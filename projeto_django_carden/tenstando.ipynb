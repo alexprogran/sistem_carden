{
 "cells": [
  {
   "cell_type": "code",
   "execution_count": null,
   "metadata": {},
   "outputs": [],
   "source": [
    "from django.shortcuts import render, redirect\n",
    "from django.views import View\n",
    "from django.db.models import Sum\n",
    "from .forms import CadastroDebitoFormModel, CadastroVendaFormModel, CategoriaProdutoFormModel\n",
    "from .models import EstoqueModel, DebitoModel, CadastrosVendaModel\n",
    "\n",
    "class SuaClasseDeVisualizacao(View):\n",
    "    template_name_debito = 'cadastro_debito.html'\n",
    "    template_name_vendas = 'cadastro_vendas.html'\n",
    "    template_name_categoria = 'categoria_produto.html'\n",
    "\n",
    "    def view_cadastro_debito(self, request):\n",
    "        formulario_debito = CadastroDebitoFormModel(request.POST or None)\n",
    "        contexto = {'formulario_debito': formulario_debito}\n",
    "\n",
    "        if formulario_debito.is_valid():\n",
    "            aluno_form = formulario_debito.cleaned_data['aluno']\n",
    "            produto_form = formulario_debito.cleaned_data['produto']\n",
    "            quantidade_form = formulario_debito.cleaned_data['quantidade']\n",
    "            data_form = formulario_debito.cleaned_data['data']\n",
    "\n",
    "            tabela_estoque = EstoqueModel.objects.get(produto=produto_form)\n",
    "            valor_unitario = tabela_estoque.preco_varejo\n",
    "\n",
    "            tabela_debito = DebitoModel()\n",
    "            gerenciador = tabela_debito.gerentec(aluno_form, produto_form, quantidade_form, data_form, valor_unitario[0])\n",
    "            soma_total = DebitoModel.objects.aggregate(soma=Sum('valor_total'))['soma']\n",
    "\n",
    "            contexto = {\n",
    "                'sucesso': True,\n",
    "                'soma_total': soma_total\n",
    "            }\n",
    "\n",
    "        return render(request, self.template_name_debito, contexto)\n",
    "\n",
    "    def view_cadastro_vendas(self, request):\n",
    "        vendas_form = CadastroVendaFormModel(request.POST or None)\n",
    "        contexto = {'vendas_form': vendas_form}\n",
    "\n",
    "        if vendas_form.is_valid():\n",
    "            produto_form = vendas_form.cleaned_data['produto']\n",
    "            quantidade = vendas_form.cleaned_data['quantidade']\n",
    "            data = vendas_form.cleaned_data['data']\n",
    "\n",
    "            produto_estoque = EstoqueModel.objects.get(produto=produto_form)\n",
    "            valor_unidade = produto_estoque.preco_varejo\n",
    "\n",
    "            cadastro_vendas = CadastrosVendaModel()\n",
    "            cadastro = cadastro_vendas.gerentec(produto_form, quantidade, data, valor_unidade)\n",
    "\n",
    "            contexto = cadastro\n",
    "\n",
    "        return render(request, self.template_name_vendas, contexto)\n",
    "\n",
    "    def view_categoria_produto(self, request):\n",
    "        categoria_form = CategoriaProdutoFormModel(request.POST or None)\n",
    "        contexto = {'categoria_form': categoria_form}\n",
    "\n",
    "        if categoria_form.is_valid():\n",
    "            categoria_form.save()\n",
    "            contexto = {\n",
    "                'sucesso': True,\n",
    "            }\n",
    "\n",
    "        return render(request, self.template_name_categoria, contexto)\n"
   ]
  },
  {
   "cell_type": "code",
   "execution_count": 1,
   "metadata": {},
   "outputs": [
    {
     "ename": "ImproperlyConfigured",
     "evalue": "Requested setting INSTALLED_APPS, but settings are not configured. You must either define the environment variable DJANGO_SETTINGS_MODULE or call settings.configure() before accessing settings.",
     "output_type": "error",
     "traceback": [
      "\u001b[1;31m---------------------------------------------------------------------------\u001b[0m",
      "\u001b[1;31mImproperlyConfigured\u001b[0m                      Traceback (most recent call last)",
      "Cell \u001b[1;32mIn[1], line 2\u001b[0m\n\u001b[0;32m      1\u001b[0m \u001b[38;5;28;01mfrom\u001b[39;00m \u001b[38;5;21;01mdjango\u001b[39;00m \u001b[38;5;28;01mimport\u001b[39;00m forms\n\u001b[1;32m----> 2\u001b[0m \u001b[38;5;28;01mfrom\u001b[39;00m \u001b[38;5;21;01mcadastro\u001b[39;00m\u001b[38;5;21;01m.\u001b[39;00m\u001b[38;5;21;01mmodels\u001b[39;00m \u001b[38;5;28;01mimport\u001b[39;00m EstoqueModel\n\u001b[0;32m      4\u001b[0m \u001b[38;5;28;01mclass\u001b[39;00m \u001b[38;5;21;01mSeuFormulario\u001b[39;00m(forms\u001b[38;5;241m.\u001b[39mForm):\n\u001b[0;32m      5\u001b[0m     \u001b[38;5;28;01mdef\u001b[39;00m \u001b[38;5;21m__init__\u001b[39m(\u001b[38;5;28mself\u001b[39m, \u001b[38;5;241m*\u001b[39margs, \u001b[38;5;241m*\u001b[39m\u001b[38;5;241m*\u001b[39mkwargs):\n",
      "File \u001b[1;32mc:\\Users\\alexp\\OneDrive\\Documentos\\projeto_django_carden\\cadastro\\models.py:10\u001b[0m\n\u001b[0;32m      6\u001b[0m \u001b[38;5;28;01mfrom\u001b[39;00m \u001b[38;5;21;01mdjango\u001b[39;00m\u001b[38;5;21;01m.\u001b[39;00m\u001b[38;5;21;01mdb\u001b[39;00m\u001b[38;5;21;01m.\u001b[39;00m\u001b[38;5;21;01mmodels\u001b[39;00m \u001b[38;5;28;01mimport\u001b[39;00m Sum\n\u001b[0;32m      7\u001b[0m \u001b[38;5;28;01mfrom\u001b[39;00m \u001b[38;5;21;01mdatetime\u001b[39;00m \u001b[38;5;28;01mimport\u001b[39;00m datetime, timezone,timedelta\n\u001b[1;32m---> 10\u001b[0m \u001b[38;5;28;01mclass\u001b[39;00m \u001b[38;5;21;01mAlunoModel\u001b[39;00m(models\u001b[38;5;241m.\u001b[39mModel):\n\u001b[0;32m     11\u001b[0m     \u001b[38;5;66;03m# FUNCIONARIO =('funcionario','Funciónario')\u001b[39;00m\n\u001b[0;32m     13\u001b[0m     nome \u001b[38;5;241m=\u001b[39m models\u001b[38;5;241m.\u001b[39mCharField(verbose_name\u001b[38;5;241m=\u001b[39m\u001b[38;5;124m'\u001b[39m\u001b[38;5;124mNome\u001b[39m\u001b[38;5;124m'\u001b[39m,max_length\u001b[38;5;241m=\u001b[39m\u001b[38;5;241m25\u001b[39m)\n\u001b[0;32m     14\u001b[0m     turma \u001b[38;5;241m=\u001b[39m models\u001b[38;5;241m.\u001b[39mCharField(verbose_name\u001b[38;5;241m=\u001b[39m\u001b[38;5;124m'\u001b[39m\u001b[38;5;124mTurma\u001b[39m\u001b[38;5;124m'\u001b[39m,max_length\u001b[38;5;241m=\u001b[39m\u001b[38;5;241m20\u001b[39m,)\n",
      "File \u001b[1;32mc:\\Users\\alexp\\anaconda3\\lib\\site-packages\\django\\db\\models\\base.py:129\u001b[0m, in \u001b[0;36mModelBase.__new__\u001b[1;34m(cls, name, bases, attrs, **kwargs)\u001b[0m\n\u001b[0;32m    126\u001b[0m app_label \u001b[38;5;241m=\u001b[39m \u001b[38;5;28;01mNone\u001b[39;00m\n\u001b[0;32m    128\u001b[0m \u001b[38;5;66;03m# Look for an application configuration to attach the model to.\u001b[39;00m\n\u001b[1;32m--> 129\u001b[0m app_config \u001b[38;5;241m=\u001b[39m \u001b[43mapps\u001b[49m\u001b[38;5;241;43m.\u001b[39;49m\u001b[43mget_containing_app_config\u001b[49m\u001b[43m(\u001b[49m\u001b[43mmodule\u001b[49m\u001b[43m)\u001b[49m\n\u001b[0;32m    131\u001b[0m \u001b[38;5;28;01mif\u001b[39;00m \u001b[38;5;28mgetattr\u001b[39m(meta, \u001b[38;5;124m\"\u001b[39m\u001b[38;5;124mapp_label\u001b[39m\u001b[38;5;124m\"\u001b[39m, \u001b[38;5;28;01mNone\u001b[39;00m) \u001b[38;5;129;01mis\u001b[39;00m \u001b[38;5;28;01mNone\u001b[39;00m:\n\u001b[0;32m    132\u001b[0m     \u001b[38;5;28;01mif\u001b[39;00m app_config \u001b[38;5;129;01mis\u001b[39;00m \u001b[38;5;28;01mNone\u001b[39;00m:\n",
      "File \u001b[1;32mc:\\Users\\alexp\\anaconda3\\lib\\site-packages\\django\\apps\\registry.py:260\u001b[0m, in \u001b[0;36mApps.get_containing_app_config\u001b[1;34m(self, object_name)\u001b[0m\n\u001b[0;32m    251\u001b[0m \u001b[38;5;28;01mdef\u001b[39;00m \u001b[38;5;21mget_containing_app_config\u001b[39m(\u001b[38;5;28mself\u001b[39m, object_name):\n\u001b[0;32m    252\u001b[0m     \u001b[38;5;124;03m\"\"\"\u001b[39;00m\n\u001b[0;32m    253\u001b[0m \u001b[38;5;124;03m    Look for an app config containing a given object.\u001b[39;00m\n\u001b[0;32m    254\u001b[0m \n\u001b[1;32m   (...)\u001b[0m\n\u001b[0;32m    258\u001b[0m \u001b[38;5;124;03m    Return None if the object isn't in any registered app config.\u001b[39;00m\n\u001b[0;32m    259\u001b[0m \u001b[38;5;124;03m    \"\"\"\u001b[39;00m\n\u001b[1;32m--> 260\u001b[0m     \u001b[38;5;28;43mself\u001b[39;49m\u001b[38;5;241;43m.\u001b[39;49m\u001b[43mcheck_apps_ready\u001b[49m\u001b[43m(\u001b[49m\u001b[43m)\u001b[49m\n\u001b[0;32m    261\u001b[0m     candidates \u001b[38;5;241m=\u001b[39m []\n\u001b[0;32m    262\u001b[0m     \u001b[38;5;28;01mfor\u001b[39;00m app_config \u001b[38;5;129;01min\u001b[39;00m \u001b[38;5;28mself\u001b[39m\u001b[38;5;241m.\u001b[39mapp_configs\u001b[38;5;241m.\u001b[39mvalues():\n",
      "File \u001b[1;32mc:\\Users\\alexp\\anaconda3\\lib\\site-packages\\django\\apps\\registry.py:137\u001b[0m, in \u001b[0;36mApps.check_apps_ready\u001b[1;34m(self)\u001b[0m\n\u001b[0;32m    132\u001b[0m \u001b[38;5;28;01mfrom\u001b[39;00m \u001b[38;5;21;01mdjango\u001b[39;00m\u001b[38;5;21;01m.\u001b[39;00m\u001b[38;5;21;01mconf\u001b[39;00m \u001b[38;5;28;01mimport\u001b[39;00m settings\n\u001b[0;32m    134\u001b[0m \u001b[38;5;66;03m# If \"not ready\" is due to unconfigured settings, accessing\u001b[39;00m\n\u001b[0;32m    135\u001b[0m \u001b[38;5;66;03m# INSTALLED_APPS raises a more helpful ImproperlyConfigured\u001b[39;00m\n\u001b[0;32m    136\u001b[0m \u001b[38;5;66;03m# exception.\u001b[39;00m\n\u001b[1;32m--> 137\u001b[0m \u001b[43msettings\u001b[49m\u001b[38;5;241;43m.\u001b[39;49m\u001b[43mINSTALLED_APPS\u001b[49m\n\u001b[0;32m    138\u001b[0m \u001b[38;5;28;01mraise\u001b[39;00m AppRegistryNotReady(\u001b[38;5;124m\"\u001b[39m\u001b[38;5;124mApps aren\u001b[39m\u001b[38;5;124m'\u001b[39m\u001b[38;5;124mt loaded yet.\u001b[39m\u001b[38;5;124m\"\u001b[39m)\n",
      "File \u001b[1;32mc:\\Users\\alexp\\anaconda3\\lib\\site-packages\\django\\conf\\__init__.py:102\u001b[0m, in \u001b[0;36mLazySettings.__getattr__\u001b[1;34m(self, name)\u001b[0m\n\u001b[0;32m    100\u001b[0m \u001b[38;5;124;03m\"\"\"Return the value of a setting and cache it in self.__dict__.\"\"\"\u001b[39;00m\n\u001b[0;32m    101\u001b[0m \u001b[38;5;28;01mif\u001b[39;00m (_wrapped \u001b[38;5;241m:=\u001b[39m \u001b[38;5;28mself\u001b[39m\u001b[38;5;241m.\u001b[39m_wrapped) \u001b[38;5;129;01mis\u001b[39;00m empty:\n\u001b[1;32m--> 102\u001b[0m     \u001b[38;5;28;43mself\u001b[39;49m\u001b[38;5;241;43m.\u001b[39;49m\u001b[43m_setup\u001b[49m\u001b[43m(\u001b[49m\u001b[43mname\u001b[49m\u001b[43m)\u001b[49m\n\u001b[0;32m    103\u001b[0m     _wrapped \u001b[38;5;241m=\u001b[39m \u001b[38;5;28mself\u001b[39m\u001b[38;5;241m.\u001b[39m_wrapped\n\u001b[0;32m    104\u001b[0m val \u001b[38;5;241m=\u001b[39m \u001b[38;5;28mgetattr\u001b[39m(_wrapped, name)\n",
      "File \u001b[1;32mc:\\Users\\alexp\\anaconda3\\lib\\site-packages\\django\\conf\\__init__.py:82\u001b[0m, in \u001b[0;36mLazySettings._setup\u001b[1;34m(self, name)\u001b[0m\n\u001b[0;32m     80\u001b[0m \u001b[38;5;28;01mif\u001b[39;00m \u001b[38;5;129;01mnot\u001b[39;00m settings_module:\n\u001b[0;32m     81\u001b[0m     desc \u001b[38;5;241m=\u001b[39m (\u001b[38;5;124m\"\u001b[39m\u001b[38;5;124msetting \u001b[39m\u001b[38;5;132;01m%s\u001b[39;00m\u001b[38;5;124m\"\u001b[39m \u001b[38;5;241m%\u001b[39m name) \u001b[38;5;28;01mif\u001b[39;00m name \u001b[38;5;28;01melse\u001b[39;00m \u001b[38;5;124m\"\u001b[39m\u001b[38;5;124msettings\u001b[39m\u001b[38;5;124m\"\u001b[39m\n\u001b[1;32m---> 82\u001b[0m     \u001b[38;5;28;01mraise\u001b[39;00m ImproperlyConfigured(\n\u001b[0;32m     83\u001b[0m         \u001b[38;5;124m\"\u001b[39m\u001b[38;5;124mRequested \u001b[39m\u001b[38;5;132;01m%s\u001b[39;00m\u001b[38;5;124m, but settings are not configured. \u001b[39m\u001b[38;5;124m\"\u001b[39m\n\u001b[0;32m     84\u001b[0m         \u001b[38;5;124m\"\u001b[39m\u001b[38;5;124mYou must either define the environment variable \u001b[39m\u001b[38;5;132;01m%s\u001b[39;00m\u001b[38;5;124m \u001b[39m\u001b[38;5;124m\"\u001b[39m\n\u001b[0;32m     85\u001b[0m         \u001b[38;5;124m\"\u001b[39m\u001b[38;5;124mor call settings.configure() before accessing settings.\u001b[39m\u001b[38;5;124m\"\u001b[39m\n\u001b[0;32m     86\u001b[0m         \u001b[38;5;241m%\u001b[39m (desc, ENVIRONMENT_VARIABLE)\n\u001b[0;32m     87\u001b[0m     )\n\u001b[0;32m     89\u001b[0m \u001b[38;5;28mself\u001b[39m\u001b[38;5;241m.\u001b[39m_wrapped \u001b[38;5;241m=\u001b[39m Settings(settings_module)\n",
      "\u001b[1;31mImproperlyConfigured\u001b[0m: Requested setting INSTALLED_APPS, but settings are not configured. You must either define the environment variable DJANGO_SETTINGS_MODULE or call settings.configure() before accessing settings."
     ]
    }
   ],
   "source": [
    "from django import forms\n",
    "from cadastro.models import EstoqueModel\n",
    "\n",
    "class SeuFormulario(forms.Form):\n",
    "    def __init__(self, *args, **kwargs):\n",
    "        super().__init__(*args, **kwargs)\n",
    "\n",
    "        # Obtenha todos os campos do modelo EstoqueModel\n",
    "        campos_estoque_model = EstoqueModel._meta.get_fields()\n",
    "\n",
    "        # Crie uma lista de tuplas no formato (campo, rótulo)\n",
    "        choices = [(campo.name, campo.verbose_name) for campo in campos_estoque_model]\n",
    "\n",
    "        # Adicione o campo ModelChoiceField ao formulário\n",
    "        self.fields['campos_estoque_model'] = forms.ModelChoiceField(\n",
    "            queryset=EstoqueModel.objects.all(),\n",
    "            to_field_name='id',  # Substitua 'id' pelo campo que você deseja usar como valor.\n",
    "            empty_label=\"Selecione uma categoria\",\n",
    "            choices=choices,\n",
    "        )\n",
    "        print(choices)"
   ]
  },
  {
   "cell_type": "code",
   "execution_count": 3,
   "metadata": {},
   "outputs": [
    {
     "name": "stdout",
     "output_type": "stream",
     "text": [
      "Maria\n",
      "João\n"
     ]
    }
   ],
   "source": [
    "class Pesso:\n",
    "    def __init__(self, nome,idade):\n",
    "        self.nome = nome\n",
    "        self.idade = idade\n",
    "\n",
    "    def mudar_nome(self,novo_nome):\n",
    "        self.nome = novo_nome\n",
    "\n",
    "pesso1 = Pesso('Maria',40)\n",
    "print(pesso1.nome)\n",
    "pesso1.mudar_nome('João')\n",
    "print(pesso1.nome)\n"
   ]
  },
  {
   "cell_type": "code",
   "execution_count": null,
   "metadata": {},
   "outputs": [],
   "source": [
    "class ResponsavelModel(models.Model):\n",
    "    responsavel = models.CharField(verbose_name='Nome',max_length=205,default='s/registro')\n",
    "    telefone = models.CharField(\n",
    "        max_length=15,  # Tamanho máximo considerando (99) 99999-9999\n",
    "        validators=[\n",
    "            RegexValidator(\n",
    "                regex=r'^\\(\\d{2}\\) \\d{5}-\\d{4}$',\n",
    "                message='O número de telefone deve estar no formato (99) 99999-9999.'\n",
    "            )\n",
    "        ],\n",
    "        default='0000000000'\n",
    "    )"
   ]
  },
  {
   "cell_type": "code",
   "execution_count": null,
   "metadata": {},
   "outputs": [],
   "source": [
    "from django.utils import timezone\n",
    "  \n",
    "data_atual = timezone.now()\n",
    "print(data_atual)"
   ]
  },
  {
   "cell_type": "code",
   "execution_count": 1,
   "metadata": {},
   "outputs": [
    {
     "name": "stdout",
     "output_type": "stream",
     "text": [
      "Meu nome é Maria e minha idade é 25\n"
     ]
    }
   ],
   "source": [
    "\n",
    "def gerentec(*args,**kwargs):\n",
    "    nome = dic['nome']\n",
    "    idade = dic['idade']\n",
    "    print(f'Meu nome é {nome} e minha idade é {idade}')\n",
    "dic = {'nome':'Maria','idade':25 }\n",
    "nome = 'Maria'\n",
    "idade = 25\n",
    "Resultado = gerentec(nome,idade)\n"
   ]
  },
  {
   "cell_type": "code",
   "execution_count": 40,
   "metadata": {},
   "outputs": [
    {
     "name": "stdout",
     "output_type": "stream",
     "text": [
      "{'Picolé': 2, 'Coxinha': 4, 'Pizza': 1}\n",
      "{'Picolé': 1, 'Coxinha': 1}\n",
      "{'Coxinha': 6, 'Picolé': 1, 'Pizza': 1}\n"
     ]
    }
   ],
   "source": [
    "import datetime\n",
    "from collections import Counter\n",
    "\n",
    "\n",
    "\n",
    "datas = set([datetime.date(2023, 12, 14),datetime.date(2023, 12, 15),datetime.date(2023, 12, 15), datetime.date(2023, 12, 16),datetime.date(2023, 12, 16)])\n",
    "\n",
    "querySet = [{'aluno__nome': 'Mirian Santos', 'produto__produto': 'Coxinha',\n",
    " 'valor': 8.5, 'data': datetime.date(2023, 12, 14), 'codigo': '8573'},\n",
    "{'aluno__nome': 'Mo', 'produto__produto': 'Coxinha', 'valor':8.5,\n",
    "'data': datetime.date(2023, 12, 14), 'codigo': '2'}, {'aluno__nome': 'Keli Lisa',\n",
    " 'produto__produto': 'Picolé', 'valor':3.0, 'data': datetime.date(2023, 12, 14),\n",
    "'codigo': '108'}, {'aluno__nome': 'Nildes Santa', 'produto__produto': 'Coxinha',\n",
    "'valor':8.5, 'data': datetime.date(2023, 12, 14),'codigo': '10.9'},\n",
    " {'aluno__nome': 'Keli Lisa', 'produto__produto': 'Coxinha', 'valor':8.5,\n",
    "'data': datetime.date(2023, 12, 14), 'codigo': '111'}, {'aluno__nome': 'Mo', 'produto__produto': 'Coxinha',\n",
    "'valor': 8.5, 'data': datetime.date(2023, 12, 14), 'codigo': '113'}, {'aluno__nome': 'Luana Batista',\n",
    "'produto__produto': 'Pizza', 'valor': 8.5, 'data': datetime.date(2023, 12, 14), 'codigo': '116'},\n",
    " {'aluno__nome': 'Mirian Santos', 'produto__produto': 'Coxinha', 'valor':8.5,\n",
    "'data': datetime.date(2023,12, 14), 'codigo': '117'}, {'aluno__nome': 'Luiza Barcelar', 'produto__produto': 'Picolé',\n",
    "'valor': 3.0, 'data': datetime.date(2023, 12, 15),'codigo': '119'},\n",
    "{'aluno__nome': 'Luana Batista', 'produto__produto': 'Coxinha', 'valor': 8.5,\n",
    "  'data': datetime.date(2023, 12, 15), 'codigo': '120'}, {'aluno__nome': 'Bruna', 'produto__produto': 'Picolé',\n",
    "'valor': 3.0, 'data': datetime.date(2023, 12, 16), 'codigo': '125'}, {'aluno__nome': 'Bruna',\n",
    "'produto__produto': 'Coxinha', 'valor':8.5, 'data': datetime.date(2023, 12, 16), 'codigo': '126'},\n",
    " {'aluno__nome': 'Bruna', 'produto__produto': 'Pizza', 'valor':8.5, 'data': datetime.date(2023, 12, 16)\n",
    ", 'codigo': '127'}, {'aluno__nome': 'Luana Batista', 'produto__produto': 'Coxinha', 'valor': 8.5,                        \n",
    "'data': datetime.date(2023, 12, 16), 'codigo': '128'}, {'aluno__nome': 'Luana Batista', 'produto__produto': 'Picolé',\n",
    "'valor':3.0, 'data': datetime.date(2023, 12, 16), 'codigo': '129'}, {'aluno__nome': 'Gustavo Magalhãs',\n",
    "'produto__produto': 'Coxinha', 'valor': 8.5, 'data': datetime.date(2023, 12, 16), 'codigo': '130'},\n",
    "{'aluno__nome': 'Gustavo Magalhãs', 'produto__produto': 'Coxinha', 'valor': 8.5,\n",
    "'data': datetime.date(2023, 12, 16), 'codigo': '131'}]\n",
    "\n",
    "\n",
    "for i in datas:\n",
    "    if i in [item['data'] for item in querySet]:#--> Lista todos os produtos pela data.\n",
    "        lista_produtos = [item['produto__produto'] for item in querySet if item['data'] == i]\n",
    "        cont_produto = Counter(lista_produtos)\n",
    "        chave_valor = dict(cont_produto)\n",
    "        \n",
    "        # for nome_produto, quantidadade in cont_produto.items():\n",
    "        #     print(f'Produto: {nome_produto} quantidade: {quantidadade}')\n",
    "       \n",
    "\n",
    "        # soma = 0\n",
    "        # list_produto_unic = []\n",
    "        # for produto in lista_produtos:\n",
    "            \n",
    "        #     if produto not in list_produto_unic:\n",
    "        #         list_produto_unic.append(produto)\n",
    "                \n",
    "        # print(i,list_produto_unic)\n",
    "       \n",
    "\n"
   ]
  },
  {
   "cell_type": "code",
   "execution_count": null,
   "metadata": {},
   "outputs": [],
   "source": [
    "# models.py\n",
    "from django.db import models\n",
    "\n",
    "class ExemploModel(models.Model):\n",
    "    campo1 = models.CharField(max_length=100)\n",
    "    campo2 = models.IntegerField()\n",
    "\n",
    "# views.py\n",
    "from django.shortcuts import render, redirect\n",
    "from .models import ExemploModel\n",
    "from .forms import ExemploModelForm  # Supondo que você tenha um formulário associado ao modelo\n",
    "\n",
    "def inserir_instancias(request):\n",
    "    if request.method == 'POST':\n",
    "        form = ExemploModelForm(request.POST)\n",
    "\n",
    "        if form.is_valid():\n",
    "            dados_formulario = form.cleaned_data\n",
    "\n",
    "            # Supondo que você tenha uma lista de dados a serem inseridos\n",
    "            lista_dados = [\n",
    "                {'campo1': 'valor1', 'campo2': 42},\n",
    "                {'campo1': 'valor2', 'campo2': 10},\n",
    "                # Adicione mais dados conforme necessário\n",
    "            ]\n",
    "\n",
    "            for dados in lista_dados:\n",
    "                instancia = ExemploModel.objects.create(**dados)\n",
    "                # Ou use ExemploModel.objects.get_or_create(**dados) se quiser evitar duplicatas\n",
    "\n",
    "            return redirect('alguma_rota')  # Redirecionar após a inserção bem-sucedida\n",
    "    else:\n",
    "        form = ExemploModelForm()\n",
    "\n",
    "    return render(request, 'sua_template.html', {'form': form})\n"
   ]
  },
  {
   "cell_type": "code",
   "execution_count": null,
   "metadata": {},
   "outputs": [],
   "source": [
    "from datetime import datetime\n",
    "\n",
    "def delete_lista_debito(request):\n",
    "    nome = request.GET.get('nome')   \n",
    "    aluno = AlunoModel.objects.get(nome=nome)\n",
    "    \n",
    "    # Obter as datas dos registros de débito\n",
    "    data_registros = DebitoModel.objects.filter(aluno_id=aluno.id).values_list('data', flat=True)\n",
    "\n",
    "    # Converter as datas para o formato datetime se necessário\n",
    "    datas_formatadas = [datetime.strptime(data, '%Y-%m-%d') for data in data_registros]\n",
    "\n",
    "    # Consultar o modelo HistoricoDebitoModel usando as datas\n",
    "    infor_debito = HistoricoDebitoModel.objects.filter(aluno=aluno, data__in=datas_formatadas)\n",
    "   \n",
    "    contexto = {\n",
    "        'sucesso': True,\n",
    "        'aluno': nome,\n",
    "        'infor_debito': infor_debito       \n",
    "    }\n",
    "\n",
    "    # Excluir débitos após obter informações\n",
    "    delete_debito = DebitoModel.objects.filter(aluno_id=aluno.id)\n",
    "    delete_debito.delete()\n",
    "   \n",
    "    return render(request, 'delete_list.html', contexto)\n"
   ]
  },
  {
   "cell_type": "code",
   "execution_count": 1,
   "metadata": {},
   "outputs": [
    {
     "name": "stdout",
     "output_type": "stream",
     "text": [
      "a\n"
     ]
    },
    {
     "ename": "AttributeError",
     "evalue": "'dict' object has no attribute 'valores'",
     "output_type": "error",
     "traceback": [
      "\u001b[1;31m---------------------------------------------------------------------------\u001b[0m",
      "\u001b[1;31mAttributeError\u001b[0m                            Traceback (most recent call last)",
      "Cell \u001b[1;32mIn[1], line 4\u001b[0m\n\u001b[0;32m      2\u001b[0m \u001b[38;5;28mprint\u001b[39m(valores[\u001b[38;5;124m'\u001b[39m\u001b[38;5;124mA\u001b[39m\u001b[38;5;124m'\u001b[39m])\n\u001b[0;32m      3\u001b[0m contexto \u001b[38;5;241m=\u001b[39m{}    \n\u001b[1;32m----> 4\u001b[0m \u001b[38;5;28mprint\u001b[39m(\u001b[43mcontexto\u001b[49m\u001b[38;5;241;43m.\u001b[39;49m\u001b[43mvalores\u001b[49m[\u001b[38;5;124m'\u001b[39m\u001b[38;5;124mA\u001b[39m\u001b[38;5;124m'\u001b[39m])\n",
      "\u001b[1;31mAttributeError\u001b[0m: 'dict' object has no attribute 'valores'"
     ]
    }
   ],
   "source": [
    "valores = {'A':'a'}\n",
    "print(valores['A'])\n",
    "contexto ={}    \n",
    "print(contexto.valores['A'])\n"
   ]
  },
  {
   "cell_type": "code",
   "execution_count": null,
   "metadata": {},
   "outputs": [
    {
     "name": "stdout",
     "output_type": "stream",
     "text": [
      "o nome de Maira\n"
     ]
    }
   ],
   "source": [
    "from .models import Aluno, ResponsavelModel\n",
    "from .forms import CadastroForm\n",
    "from django.shortcuts import render\n",
    "from django.db import transaction\n",
    "\n",
    "def view_cadastro(request):\n",
    "    form_cadastro = CadastroForm(request.POST or None)\n",
    "    contexto = {'sucesso': False}\n",
    "\n",
    "    if form_cadastro.is_valid():\n",
    "        try:\n",
    "            # Use transaction.atomic para garantir atomicidade\n",
    "            with transaction.atomic():\n",
    "                # Salve o responsável no banco de dados\n",
    "                responsavel = ResponsavelModel(\n",
    "                    responsavel=form_cadastro.cleaned_data['responsavel'],\n",
    "                    telefone=form_cadastro.cleaned_data['telefone']\n",
    "                )\n",
    "                responsavel.save()\n",
    "\n",
    "                # Obtenha o ID do responsável recém-salvo\n",
    "                ultimo_id = responsavel.id\n",
    "\n",
    "                # Crie um novo aluno associado ao responsável\n",
    "                aluno = Aluno(\n",
    "                    nome=form_cadastro.cleaned_data['nome_aluno'],\n",
    "                    turma=form_cadastro.cleaned_data['turma'],\n",
    "                    responsavel_id=ultimo_id\n",
    "                )\n",
    "\n",
    "                # Salve o aluno no banco de dados\n",
    "                aluno.save()\n",
    "\n",
    "            # Se chegou até aqui, ambas as instâncias foram salvas com sucesso\n",
    "\n",
    "        except Exception as e:\n",
    "            # Se ocorrer algum erro, imprima ou registre o erro conforme necessário\n",
    "            print(f\"Erro ao salvar instâncias: {e}\")\n",
    "\n",
    "        nome_aluno = aluno.nome\n",
    "        contexto['sucesso'] = True\n",
    "        contexto['nome_aluno'] = nome_aluno\n",
    "\n",
    "        return render(request, 'cadastroCarden.html', contexto)\n",
    "\n",
    "    contexto['form_cadastro'] = form_cadastro\n",
    "    return render(request, 'cadastroCarden.html', contexto)\n"
   ]
  },
  {
   "cell_type": "code",
   "execution_count": null,
   "metadata": {},
   "outputs": [
    {
     "name": "stdout",
     "output_type": "stream",
     "text": [
      "2023-09-01\n"
     ]
    }
   ],
   "source": [
    "import datetime\n",
    "\n",
    "data = datetime.date(2023,9,1)\n",
    "print(data)"
   ]
  },
  {
   "cell_type": "code",
   "execution_count": null,
   "metadata": {},
   "outputs": [
    {
     "name": "stdout",
     "output_type": "stream",
     "text": [
      "2023-11-09 03:50:58.537741\n"
     ]
    }
   ],
   "source": [
    "import datetime\n",
    "\n",
    "agora = datetime.datetime.now()\n",
    "hoje = agora.strftime('%Y-%m-%d')\n",
    "print(agora)\n"
   ]
  },
  {
   "cell_type": "code",
   "execution_count": null,
   "metadata": {},
   "outputs": [
    {
     "name": "stdout",
     "output_type": "stream",
     "text": [
      "-1 day, 0:00:00\n",
      "2023-11-09 04:26:53.319552\n",
      "2023-11-09\n",
      "04:26:53\n",
      "2023-11-09\n"
     ]
    }
   ],
   "source": [
    "from datetime import timedelta\n",
    "data_hora_hoje = datetime.datetime.now()\n",
    "somente_data = datetime.datetime.now().date()\n",
    "somente_tempo = data_hora_hoje.strftime('%H:%M:%S')\n",
    "data_formatada = data_hora_hoje.strftime('%Y-%m-%d')\n",
    "um_dia = timedelta(days=-1)\n",
    "amanha = agora + um_dia \n",
    "print(um_dia)\n",
    "print(data_hora_hoje)\n",
    "print(somente_data)\n",
    "print(somente_tempo)\n",
    "print(data_formatada)"
   ]
  },
  {
   "cell_type": "code",
   "execution_count": null,
   "metadata": {},
   "outputs": [
    {
     "name": "stdout",
     "output_type": "stream",
     "text": [
      "Data lime para pagar sem juros é 2023-11-19\n"
     ]
    }
   ],
   "source": [
    "from datetime import timedelta\n",
    "data_hora_hoje = datetime.datetime.now()\n",
    "quantidade_dias = timedelta(days=10)\n",
    "vencimento  = data_hora_hoje + quantidade_dias\n",
    "if vencimento :\n",
    "    vencimento_formatado = vencimento.strftime('%Y-%m-%d')\n",
    "    print(f'Data lime para pagar sem juros é {vencimento_formatado}')"
   ]
  },
  {
   "cell_type": "code",
   "execution_count": null,
   "metadata": {},
   "outputs": [
    {
     "name": "stdout",
     "output_type": "stream",
     "text": [
      "Seu vencimento é todo dia: 10\n",
      "Data lime para pagar:2023-11-20\n"
     ]
    }
   ],
   "source": [
    "from datetime import timedelta\n",
    "import datetime\n",
    "data_hora_hoje = datetime.datetime.now()\n",
    "dia = data_hora_hoje.strftime(\"%d\")\n",
    "# vencimento_mais_oito = vencimento + timedelta(days=8)\n",
    "if dia == '10':\n",
    "    data_formata =  datetime.datetime.strptime(data_hora_hoje.strftime(\"%Y-%m-%d\"), \"%Y-%m-%d\")\n",
    "    data_limete = data_formata + timedelta(days=10)\n",
    "    print(f'Seu vencimento é todo dia: {dia}')\n",
    "    print(f'Data lime para pagar:{data_limete.strftime(\"%Y-%m-%d\")}')\n",
    "\n"
   ]
  },
  {
   "cell_type": "code",
   "execution_count": null,
   "metadata": {},
   "outputs": [
    {
     "name": "stdout",
     "output_type": "stream",
     "text": [
      "11\n"
     ]
    }
   ],
   "source": [
    "import datetime\n",
    "\n",
    "data_hora_hoje = datetime.datetime.now()\n",
    "\n",
    "dia = data_hora_hoje.day\n",
    "\n",
    "print(dia)\n",
    "\n"
   ]
  }
 ],
 "metadata": {
  "kernelspec": {
   "display_name": "base",
   "language": "python",
   "name": "python3"
  },
  "language_info": {
   "codemirror_mode": {
    "name": "ipython",
    "version": 3
   },
   "file_extension": ".py",
   "mimetype": "text/x-python",
   "name": "python",
   "nbconvert_exporter": "python",
   "pygments_lexer": "ipython3",
   "version": "3.10.9"
  }
 },
 "nbformat": 4,
 "nbformat_minor": 2
}
